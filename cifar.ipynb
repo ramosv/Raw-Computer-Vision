{
 "cells": [
  {
   "cell_type": "code",
   "execution_count": 1,
   "metadata": {},
   "outputs": [],
   "source": [
    "import numpy as np\n",
    "import matplotlib.pyplot as plt\n",
    "import pickle\n",
    "import os"
   ]
  },
  {
   "cell_type": "code",
   "execution_count": 2,
   "metadata": {},
   "outputs": [],
   "source": [
    "def unpickle(file):\n",
    "    with open(file, 'rb') as fo:\n",
    "        data_dict = pickle.load(fo, encoding='bytes')\n",
    "    return data_dict"
   ]
  },
  {
   "cell_type": "code",
   "execution_count": 3,
   "metadata": {},
   "outputs": [],
   "source": [
    "# Function to convert CIFAR-10 image from RGB to Grayscale\n",
    "def rgb_to_grayscale(rgb_image):\n",
    "    height, width, _ = rgb_image.shape\n",
    "    gray_image = np.zeros((height, width), dtype=np.uint8)\n",
    "\n",
    "    for i in range(height):\n",
    "        for j in range(width):\n",
    "            r, g, b = rgb_image[i, j]\n",
    "            gray_value = int(0.299 * r + 0.587 * g + 0.114 * b)  # Grayscale formula\n",
    "            gray_image[i, j] = gray_value\n",
    "\n",
    "    return gray_image"
   ]
  },
  {
   "cell_type": "code",
   "execution_count": 4,
   "metadata": {},
   "outputs": [
    {
     "name": "stdout",
     "output_type": "stream",
     "text": [
      "/Users/jesusgalindo/Documents/Computer Vision/Raw-Computer-Vision\n"
     ]
    }
   ],
   "source": [
    "print(os.getcwd())"
   ]
  },
  {
   "cell_type": "code",
   "execution_count": 5,
   "metadata": {},
   "outputs": [
    {
     "ename": "ValueError",
     "evalue": "cannot reshape array of size 3145728 into shape (32,32)",
     "output_type": "error",
     "traceback": [
      "\u001b[0;31m---------------------------------------------------------------------------\u001b[0m",
      "\u001b[0;31mValueError\u001b[0m                                Traceback (most recent call last)",
      "Cell \u001b[0;32mIn[5], line 10\u001b[0m\n\u001b[1;32m      8\u001b[0m \u001b[38;5;66;03m# Convert first image in the batch to grayscale\u001b[39;00m\n\u001b[1;32m      9\u001b[0m image_index \u001b[38;5;241m=\u001b[39m \u001b[38;5;241m0\u001b[39m\n\u001b[0;32m---> 10\u001b[0m r \u001b[38;5;241m=\u001b[39m \u001b[43mimage_data\u001b[49m\u001b[43m[\u001b[49m\u001b[43mimage_index\u001b[49m\u001b[43m \u001b[49m\u001b[38;5;241;43m*\u001b[39;49m\u001b[43m \u001b[49m\u001b[38;5;241;43m3072\u001b[39;49m\u001b[43m:\u001b[49m\u001b[43m \u001b[49m\u001b[43mimage_index\u001b[49m\u001b[43m \u001b[49m\u001b[38;5;241;43m*\u001b[39;49m\u001b[43m \u001b[49m\u001b[38;5;241;43m3072\u001b[39;49m\u001b[43m \u001b[49m\u001b[38;5;241;43m+\u001b[39;49m\u001b[43m \u001b[49m\u001b[38;5;241;43m1024\u001b[39;49m\u001b[43m]\u001b[49m\u001b[38;5;241;43m.\u001b[39;49m\u001b[43mreshape\u001b[49m\u001b[43m(\u001b[49m\u001b[38;5;241;43m32\u001b[39;49m\u001b[43m,\u001b[49m\u001b[43m \u001b[49m\u001b[38;5;241;43m32\u001b[39;49m\u001b[43m)\u001b[49m\n\u001b[1;32m     11\u001b[0m g \u001b[38;5;241m=\u001b[39m image_data[image_index \u001b[38;5;241m*\u001b[39m \u001b[38;5;241m3072\u001b[39m \u001b[38;5;241m+\u001b[39m \u001b[38;5;241m1024\u001b[39m: image_index \u001b[38;5;241m*\u001b[39m \u001b[38;5;241m3072\u001b[39m \u001b[38;5;241m+\u001b[39m \u001b[38;5;241m2048\u001b[39m]\u001b[38;5;241m.\u001b[39mreshape(\u001b[38;5;241m32\u001b[39m, \u001b[38;5;241m32\u001b[39m)\n\u001b[1;32m     12\u001b[0m b \u001b[38;5;241m=\u001b[39m image_data[image_index \u001b[38;5;241m*\u001b[39m \u001b[38;5;241m3072\u001b[39m \u001b[38;5;241m+\u001b[39m \u001b[38;5;241m2048\u001b[39m: image_index \u001b[38;5;241m*\u001b[39m \u001b[38;5;241m3072\u001b[39m \u001b[38;5;241m+\u001b[39m \u001b[38;5;241m3072\u001b[39m]\u001b[38;5;241m.\u001b[39mreshape(\u001b[38;5;241m32\u001b[39m, \u001b[38;5;241m32\u001b[39m)\n",
      "\u001b[0;31mValueError\u001b[0m: cannot reshape array of size 3145728 into shape (32,32)"
     ]
    }
   ],
   "source": [
    "# Load CIFAR-10 batch\n",
    "cifar_data = unpickle('cifar-10-batches-py/data_batch_1')\n",
    "\n",
    "# Extract the image data (3072 bytes per image, first 1024 for R, next 1024 for G, next 1024 for B)\n",
    "image_data = cifar_data[b'data']\n",
    "labels = cifar_data[b'labels']\n",
    "\n",
    "# Convert first image in the batch to grayscale\n",
    "image_index = 0\n",
    "r = image_data[image_index * 3072: image_index * 3072 + 1024].reshape(32, 32)\n",
    "g = image_data[image_index * 3072 + 1024: image_index * 3072 + 2048].reshape(32, 32)\n",
    "b = image_data[image_index * 3072 + 2048: image_index * 3072 + 3072].reshape(32, 32)\n",
    "\n",
    "# Combine R, G, B into one image\n",
    "rgb_image = np.stack([r, g, b], axis=2)\n",
    "\n",
    "# Convert to grayscale\n",
    "gray_image = rgb_to_grayscale(rgb_image)\n",
    "\n",
    "# Plot the original and grayscale image\n",
    "plt.subplot(1, 2, 1)\n",
    "plt.imshow(rgb_image)\n",
    "plt.title('Original Image')\n",
    "\n",
    "plt.subplot(1, 2, 2)\n",
    "plt.imshow(gray_image, cmap='gray')\n",
    "plt.title('Grayscale Image')\n",
    "\n",
    "plt.show()\n",
    "\n",
    "# Optionally, you can save the grayscale image using matplotlib\n",
    "plt.imsave('grayscale_cifar_image.png', gray_image, cmap='gray')"
   ]
  }
 ],
 "metadata": {
  "kernelspec": {
   "display_name": "Python 3",
   "language": "python",
   "name": "python3"
  },
  "language_info": {
   "codemirror_mode": {
    "name": "ipython",
    "version": 3
   },
   "file_extension": ".py",
   "mimetype": "text/x-python",
   "name": "python",
   "nbconvert_exporter": "python",
   "pygments_lexer": "ipython3",
   "version": "3.12.5"
  }
 },
 "nbformat": 4,
 "nbformat_minor": 2
}
